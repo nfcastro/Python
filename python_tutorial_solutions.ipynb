{
  "nbformat": 4,
  "nbformat_minor": 0,
  "metadata": {
    "kernelspec": {
      "display_name": "Python 3",
      "language": "python",
      "name": "python3"
    },
    "language_info": {
      "codemirror_mode": {
        "name": "ipython",
        "version": 3
      },
      "file_extension": ".py",
      "mimetype": "text/x-python",
      "name": "python",
      "nbconvert_exporter": "python",
      "pygments_lexer": "ipython3",
      "version": "3.8.2"
    },
    "colab": {
      "name": "python_tutorial_solutions.ipynb",
      "provenance": [],
      "include_colab_link": true
    }
  },
  "cells": [
    {
      "cell_type": "markdown",
      "metadata": {
        "id": "view-in-github",
        "colab_type": "text"
      },
      "source": [
        "<a href=\"https://colab.research.google.com/github/nfcastro/Python/blob/main/python_tutorial_solutions.ipynb\" target=\"_parent\"><img src=\"https://colab.research.google.com/assets/colab-badge.svg\" alt=\"Open In Colab\"/></a>"
      ]
    },
    {
      "cell_type": "markdown",
      "metadata": {
        "id": "YjDH06BJ8_dd"
      },
      "source": [
        "##(breve) **introdução ao Python**\n",
        "### Física Computacional\n",
        "#### Universidade do Minho\n",
        "#### docente: Nuno Castro\n",
        "#### nuno.castro@fisica.uminho.pt"
      ]
    },
    {
      "cell_type": "markdown",
      "metadata": {
        "id": "Za9lwzoF8_dh"
      },
      "source": [
        "\n",
        "\n",
        "## Operações básicas"
      ]
    },
    {
      "cell_type": "code",
      "metadata": {
        "id": "V24IHLco8_di",
        "outputId": "86abb7b6-1e24-4d17-945b-402b7ef807de",
        "colab": {
          "base_uri": "https://localhost:8080/",
          "height": 34
        }
      },
      "source": [
        "2+3"
      ],
      "execution_count": null,
      "outputs": [
        {
          "output_type": "execute_result",
          "data": {
            "text/plain": [
              "5"
            ]
          },
          "metadata": {
            "tags": []
          },
          "execution_count": 111
        }
      ]
    },
    {
      "cell_type": "code",
      "metadata": {
        "id": "t64EUgyA8_dr",
        "outputId": "750ca10a-a88a-4937-bc21-27b6aadd3cce",
        "colab": {
          "base_uri": "https://localhost:8080/",
          "height": 34
        }
      },
      "source": [
        "(50-5*6)/4"
      ],
      "execution_count": null,
      "outputs": [
        {
          "output_type": "execute_result",
          "data": {
            "text/plain": [
              "5.0"
            ]
          },
          "metadata": {
            "tags": []
          },
          "execution_count": 109
        }
      ]
    },
    {
      "cell_type": "code",
      "metadata": {
        "id": "T2JQr7g38_dx",
        "outputId": "87a43346-170e-4d5f-c181-2fb5c666e9d3",
        "colab": {
          "base_uri": "https://localhost:8080/",
          "height": 34
        }
      },
      "source": [
        "import math\n",
        "math.sqrt(81)"
      ],
      "execution_count": null,
      "outputs": [
        {
          "output_type": "execute_result",
          "data": {
            "text/plain": [
              "9.0"
            ]
          },
          "metadata": {
            "tags": []
          },
          "execution_count": 28
        }
      ]
    },
    {
      "cell_type": "code",
      "metadata": {
        "id": "P33EiOtPBRaW",
        "outputId": "46a0b84c-d81c-4e0f-ba0b-d79894de93d3",
        "colab": {
          "base_uri": "https://localhost:8080/",
          "height": 34
        }
      },
      "source": [
        "a=2\n",
        "print(a)"
      ],
      "execution_count": null,
      "outputs": [
        {
          "output_type": "stream",
          "text": [
            "2\n"
          ],
          "name": "stdout"
        }
      ]
    },
    {
      "cell_type": "code",
      "metadata": {
        "id": "blQoHgk5BXZQ",
        "outputId": "85d4f227-6473-4161-c9e2-d6640fbeabb6",
        "colab": {
          "base_uri": "https://localhost:8080/",
          "height": 34
        }
      },
      "source": [
        "a,b=2,4\n",
        "print(a, b, a+b)"
      ],
      "execution_count": null,
      "outputs": [
        {
          "output_type": "stream",
          "text": [
            "2 4 6\n"
          ],
          "name": "stdout"
        }
      ]
    },
    {
      "cell_type": "markdown",
      "metadata": {
        "id": "gY5Ub09h8_d2"
      },
      "source": [
        "## Strings"
      ]
    },
    {
      "cell_type": "code",
      "metadata": {
        "id": "1tTKYMeF8_d4",
        "outputId": "24aaa1a5-30f9-482b-8de5-a8c216568f0e",
        "colab": {
          "base_uri": "https://localhost:8080/",
          "height": 34
        }
      },
      "source": [
        "greeting = \"Hello \" + \"World!\"\n",
        "print(greeting)"
      ],
      "execution_count": null,
      "outputs": [
        {
          "output_type": "stream",
          "text": [
            "Hello World!\n"
          ],
          "name": "stdout"
        }
      ]
    },
    {
      "cell_type": "markdown",
      "metadata": {
        "id": "_YCccpKO8_d9"
      },
      "source": [
        "### Alguns métodos úteis"
      ]
    },
    {
      "cell_type": "markdown",
      "metadata": {
        "id": "3_hUCvkT8_d9"
      },
      "source": [
        "#### Remover os espaços em branco a mais"
      ]
    },
    {
      "cell_type": "code",
      "metadata": {
        "id": "fvUr56bg8_d-",
        "outputId": "27fd2442-1903-4788-edc7-7929b38ee002",
        "colab": {
          "base_uri": "https://localhost:8080/",
          "height": 35
        }
      },
      "source": [
        "greeting =\"Hello World        \"\n",
        "greeting.strip()"
      ],
      "execution_count": null,
      "outputs": [
        {
          "output_type": "execute_result",
          "data": {
            "application/vnd.google.colaboratory.intrinsic+json": {
              "type": "string"
            },
            "text/plain": [
              "'Hello World'"
            ]
          },
          "metadata": {
            "tags": []
          },
          "execution_count": 32
        }
      ]
    },
    {
      "cell_type": "markdown",
      "metadata": {
        "id": "MHrjlgmi8_eD"
      },
      "source": [
        "#### Trocar maiúsculas e minúsculas"
      ]
    },
    {
      "cell_type": "code",
      "metadata": {
        "id": "T8xAn0Mb8_eE",
        "outputId": "36435e62-3095-44a4-f0ab-6b61cf8d3221",
        "colab": {
          "base_uri": "https://localhost:8080/",
          "height": 52
        }
      },
      "source": [
        "print(\"NOT SO LOUD!\".lower())\n",
        "print(\"what?\".upper())"
      ],
      "execution_count": null,
      "outputs": [
        {
          "output_type": "stream",
          "text": [
            "not so loud!\n",
            "WHAT?\n"
          ],
          "name": "stdout"
        }
      ]
    },
    {
      "cell_type": "markdown",
      "metadata": {
        "id": "Z3iVa1Zv8_eI"
      },
      "source": [
        "#### Dividir em substrings"
      ]
    },
    {
      "cell_type": "code",
      "metadata": {
        "id": "0_0be8818_eJ",
        "outputId": "1d7a3d79-8b52-4887-f3ae-b2657a884757",
        "colab": {
          "base_uri": "https://localhost:8080/",
          "height": 34
        }
      },
      "source": [
        "\"A sentence with many words\".split()"
      ],
      "execution_count": null,
      "outputs": [
        {
          "output_type": "execute_result",
          "data": {
            "text/plain": [
              "['A', 'sentence', 'with', 'many', 'words']"
            ]
          },
          "metadata": {
            "tags": []
          },
          "execution_count": 34
        }
      ]
    },
    {
      "cell_type": "markdown",
      "metadata": {
        "id": "DKurA_O98_eN"
      },
      "source": [
        "*Por default o limitador é o espaço, mas isso pode ser mudado*\n",
        "\n"
      ]
    },
    {
      "cell_type": "code",
      "metadata": {
        "id": "nWNAxXKJ8_eO",
        "outputId": "cf933c94-ad08-4a99-ee32-b577287d1594",
        "colab": {
          "base_uri": "https://localhost:8080/",
          "height": 52
        }
      },
      "source": [
        "print(\"11:23:54\".split(\":\"))\n",
        "print(\"First sentence. Second sentence\".split(\".\"))"
      ],
      "execution_count": null,
      "outputs": [
        {
          "output_type": "stream",
          "text": [
            "['11', '23', '54']\n",
            "['First sentence', ' Second sentence']\n"
          ],
          "name": "stdout"
        }
      ]
    },
    {
      "cell_type": "markdown",
      "metadata": {
        "id": "qRAy94iY8_eT"
      },
      "source": [
        "*É fácil manipular strings em Python!*"
      ]
    },
    {
      "cell_type": "code",
      "metadata": {
        "id": "2lDpDlKB8_eT",
        "outputId": "a1b86ca4-b758-45d6-c4af-bd5368d86cbd",
        "colab": {
          "base_uri": "https://localhost:8080/",
          "height": 35
        }
      },
      "source": [
        "\"hello\".replace(\"h\",\"j\")"
      ],
      "execution_count": null,
      "outputs": [
        {
          "output_type": "execute_result",
          "data": {
            "application/vnd.google.colaboratory.intrinsic+json": {
              "type": "string"
            },
            "text/plain": [
              "'jello'"
            ]
          },
          "metadata": {
            "tags": []
          },
          "execution_count": 36
        }
      ]
    },
    {
      "cell_type": "code",
      "metadata": {
        "id": "Tpv8HwRQ8_eX",
        "outputId": "fb472d04-5b59-4a67-9d0d-e050b9c7dfff",
        "colab": {
          "base_uri": "https://localhost:8080/",
          "height": 35
        }
      },
      "source": [
        "\"{q} is the {f}\".format(q=\"quantum computing\",f=\"future\")"
      ],
      "execution_count": null,
      "outputs": [
        {
          "output_type": "execute_result",
          "data": {
            "application/vnd.google.colaboratory.intrinsic+json": {
              "type": "string"
            },
            "text/plain": [
              "'quantum computing is the future'"
            ]
          },
          "metadata": {
            "tags": []
          },
          "execution_count": 113
        }
      ]
    },
    {
      "cell_type": "markdown",
      "metadata": {
        "id": "18fqjoRP8_ei"
      },
      "source": [
        "#### As strings são listas de caracteres, pelo que os métodos das listas podem ser usados"
      ]
    },
    {
      "cell_type": "code",
      "metadata": {
        "id": "jiCQJ215TLIn",
        "outputId": "501c0f14-5d41-4bc0-8a6f-23bc49aff1ef",
        "colab": {
          "base_uri": "https://localhost:8080/",
          "height": 34
        }
      },
      "source": [
        "def greet(name):\n",
        "    return \"Hello, \" + name\n",
        "\n",
        "name = \"Nuno\"\n",
        "print(f\"{greet(name)}\")"
      ],
      "execution_count": null,
      "outputs": [
        {
          "output_type": "stream",
          "text": [
            "Hello, Nuno\n"
          ],
          "name": "stdout"
        }
      ]
    },
    {
      "cell_type": "code",
      "metadata": {
        "id": "gDxw0sDUTNtG",
        "outputId": "c180a48b-da46-4789-cf00-5dc80c055aa3",
        "colab": {
          "base_uri": "https://localhost:8080/",
          "height": 52
        }
      },
      "source": [
        "print(f\"{5 * 5}\")\n",
        "print( \"{5 * 5}\")"
      ],
      "execution_count": null,
      "outputs": [
        {
          "output_type": "stream",
          "text": [
            "25\n",
            "{5 * 5}\n"
          ],
          "name": "stdout"
        }
      ]
    },
    {
      "cell_type": "markdown",
      "metadata": {
        "id": "JPn1VX718_ei"
      },
      "source": [
        "## Lists"
      ]
    },
    {
      "cell_type": "code",
      "metadata": {
        "id": "IqNkr5PI8_ek"
      },
      "source": [
        "days_of_the_week = [\"Monday\",\"Tuesday\",\"Wednesday\",\"Thursday\",\"Friday\",\"Saturday\",\"Sunday\"]"
      ],
      "execution_count": null,
      "outputs": []
    },
    {
      "cell_type": "code",
      "metadata": {
        "id": "WrQZ3M6o8_eo",
        "outputId": "24da6d84-3f46-46d4-f60c-bba366cd56e6",
        "colab": {
          "base_uri": "https://localhost:8080/",
          "height": 35
        }
      },
      "source": [
        "days_of_the_week[2]"
      ],
      "execution_count": null,
      "outputs": [
        {
          "output_type": "execute_result",
          "data": {
            "application/vnd.google.colaboratory.intrinsic+json": {
              "type": "string"
            },
            "text/plain": [
              "'Wednesday'"
            ]
          },
          "metadata": {
            "tags": []
          },
          "execution_count": 39
        }
      ]
    },
    {
      "cell_type": "code",
      "metadata": {
        "id": "XKdRG4gN8_et",
        "outputId": "a21afe02-9b64-4b93-dec6-99d9d79e8e70",
        "colab": {
          "base_uri": "https://localhost:8080/",
          "height": 35
        }
      },
      "source": [
        "days_of_the_week[-1]"
      ],
      "execution_count": null,
      "outputs": [
        {
          "output_type": "execute_result",
          "data": {
            "application/vnd.google.colaboratory.intrinsic+json": {
              "type": "string"
            },
            "text/plain": [
              "'Sunday'"
            ]
          },
          "metadata": {
            "tags": []
          },
          "execution_count": 40
        }
      ]
    },
    {
      "cell_type": "markdown",
      "metadata": {
        "id": "IR8Ke8YR8_ex"
      },
      "source": [
        "*É fácil adicionar elementos a listas*"
      ]
    },
    {
      "cell_type": "code",
      "metadata": {
        "id": "fQOiS2qC8_ex",
        "outputId": "25035d75-4023-4ebf-c9d0-009bee3f9088",
        "colab": {
          "base_uri": "https://localhost:8080/",
          "height": 34
        }
      },
      "source": [
        "bosons = [\"W\",\"Z\",\"Photon\"]\n",
        "bosons.append(\"Higgs\")\n",
        "print(bosons)"
      ],
      "execution_count": null,
      "outputs": [
        {
          "output_type": "stream",
          "text": [
            "['W', 'Z', 'Photon', 'Higgs']\n"
          ],
          "name": "stdout"
        }
      ]
    },
    {
      "cell_type": "markdown",
      "metadata": {
        "id": "Ny9ctkqO8_e1"
      },
      "source": [
        "*Contar o número de elementos de uma lista*"
      ]
    },
    {
      "cell_type": "code",
      "metadata": {
        "id": "m_4aRFVw8_e2",
        "outputId": "1824dc2f-bb60-4c96-9e4d-625ad4b34b56",
        "colab": {
          "base_uri": "https://localhost:8080/",
          "height": 34
        }
      },
      "source": [
        "len(bosons)"
      ],
      "execution_count": null,
      "outputs": [
        {
          "output_type": "execute_result",
          "data": {
            "text/plain": [
              "4"
            ]
          },
          "metadata": {
            "tags": []
          },
          "execution_count": 42
        }
      ]
    },
    {
      "cell_type": "markdown",
      "metadata": {
        "id": "38mKBXxg8_e6"
      },
      "source": [
        "*Mudar elementos*"
      ]
    },
    {
      "cell_type": "code",
      "metadata": {
        "id": "xZAO4R898_e6",
        "outputId": "5e1bbae9-be96-41f1-9743-a3930f7d39af",
        "colab": {
          "base_uri": "https://localhost:8080/",
          "height": 34
        }
      },
      "source": [
        "bosons[-1] = \"Gluon\"\n",
        "print(bosons)"
      ],
      "execution_count": null,
      "outputs": [
        {
          "output_type": "stream",
          "text": [
            "['W', 'Z', 'Photon', 'Gluon']\n"
          ],
          "name": "stdout"
        }
      ]
    },
    {
      "cell_type": "markdown",
      "metadata": {
        "id": "mIrFV2ls8_e9"
      },
      "source": [
        "*Verificar se uma lista tem determinado elemento*"
      ]
    },
    {
      "cell_type": "code",
      "metadata": {
        "id": "Sd70e4VE8_e-",
        "outputId": "e7d71082-96e3-4ff5-beaf-f922ff517f4c",
        "colab": {
          "base_uri": "https://localhost:8080/",
          "height": 34
        }
      },
      "source": [
        "\"Higgs\" in bosons"
      ],
      "execution_count": null,
      "outputs": [
        {
          "output_type": "execute_result",
          "data": {
            "text/plain": [
              "False"
            ]
          },
          "metadata": {
            "tags": []
          },
          "execution_count": 44
        }
      ]
    },
    {
      "cell_type": "markdown",
      "metadata": {
        "id": "r6y5SJH88_fB"
      },
      "source": [
        "*Operações sobre listas*"
      ]
    },
    {
      "cell_type": "code",
      "metadata": {
        "id": "CZHBCwsK8_fC",
        "outputId": "952e764e-aa67-47ea-89d4-2a41ecc68b01",
        "colab": {
          "base_uri": "https://localhost:8080/",
          "height": 34
        }
      },
      "source": [
        "up_type = [\"up\",\"charm\",\"top\"]\n",
        "down_type = [\"down\",\"strange\",\"bottom\"]\n",
        "quarks = up_type + down_type\n",
        "print(quarks)"
      ],
      "execution_count": null,
      "outputs": [
        {
          "output_type": "stream",
          "text": [
            "['up', 'charm', 'top', 'down', 'strange', 'bottom']\n"
          ],
          "name": "stdout"
        }
      ]
    },
    {
      "cell_type": "markdown",
      "metadata": {
        "id": "l0q_gI1s8_fF"
      },
      "source": [
        "## Iterators"
      ]
    },
    {
      "cell_type": "markdown",
      "metadata": {
        "id": "lheRWcga8_fF"
      },
      "source": [
        "*Iterar sobre uma lista*"
      ]
    },
    {
      "cell_type": "code",
      "metadata": {
        "id": "-53t012H8_fG",
        "outputId": "01db3ff9-2c4f-4bd1-90fe-32f279a90501",
        "colab": {
          "base_uri": "https://localhost:8080/",
          "height": 139
        }
      },
      "source": [
        "for day in days_of_the_week:\n",
        "    print(day)"
      ],
      "execution_count": null,
      "outputs": [
        {
          "output_type": "stream",
          "text": [
            "Monday\n",
            "Tuesday\n",
            "Wednesday\n",
            "Thursday\n",
            "Friday\n",
            "Saturday\n",
            "Sunday\n"
          ],
          "name": "stdout"
        }
      ]
    },
    {
      "cell_type": "markdown",
      "metadata": {
        "id": "Er-Ju_Oj8_fJ"
      },
      "source": [
        "*o uso de*\n",
        "\n",
        "```\n",
        "range(N)\n",
        "```\n",
        "\n"
      ]
    },
    {
      "cell_type": "code",
      "metadata": {
        "id": "5fBsVZvd8_fK",
        "outputId": "4259b59d-cf99-4fd6-8bf5-3c1a1515b3ad",
        "colab": {
          "base_uri": "https://localhost:8080/",
          "height": 191
        }
      },
      "source": [
        "for i in range(10):\n",
        "    print(\"The square of \",i,\" is \",i*i)"
      ],
      "execution_count": null,
      "outputs": [
        {
          "output_type": "stream",
          "text": [
            "The square of  0  is  0\n",
            "The square of  1  is  1\n",
            "The square of  2  is  4\n",
            "The square of  3  is  9\n",
            "The square of  4  is  16\n",
            "The square of  5  is  25\n",
            "The square of  6  is  36\n",
            "The square of  7  is  49\n",
            "The square of  8  is  64\n",
            "The square of  9  is  81\n"
          ],
          "name": "stdout"
        }
      ]
    },
    {
      "cell_type": "code",
      "metadata": {
        "scrolled": true,
        "id": "mtpc2em-8_fP",
        "outputId": "9fd7e688-c7b2-4fc8-aa47-06446967c126",
        "colab": {
          "base_uri": "https://localhost:8080/",
          "height": 191
        }
      },
      "source": [
        "for i in range(1,11):\n",
        "    print(\"The square of \",i,\" is \",i*i)"
      ],
      "execution_count": null,
      "outputs": [
        {
          "output_type": "stream",
          "text": [
            "The square of  1  is  1\n",
            "The square of  2  is  4\n",
            "The square of  3  is  9\n",
            "The square of  4  is  16\n",
            "The square of  5  is  25\n",
            "The square of  6  is  36\n",
            "The square of  7  is  49\n",
            "The square of  8  is  64\n",
            "The square of  9  is  81\n",
            "The square of  10  is  100\n"
          ],
          "name": "stdout"
        }
      ]
    },
    {
      "cell_type": "code",
      "metadata": {
        "id": "VQyRXa_c8_fT",
        "outputId": "dfb6591e-a691-42a9-e0bc-1c193136f75d",
        "colab": {
          "base_uri": "https://localhost:8080/",
          "height": 191
        }
      },
      "source": [
        "for i in range(1,21,2):\n",
        "    print(\"The square of \",i,\" is \",i*i)"
      ],
      "execution_count": null,
      "outputs": [
        {
          "output_type": "stream",
          "text": [
            "The square of  1  is  1\n",
            "The square of  3  is  9\n",
            "The square of  5  is  25\n",
            "The square of  7  is  49\n",
            "The square of  9  is  81\n",
            "The square of  11  is  121\n",
            "The square of  13  is  169\n",
            "The square of  15  is  225\n",
            "The square of  17  is  289\n",
            "The square of  19  is  361\n"
          ],
          "name": "stdout"
        }
      ]
    },
    {
      "cell_type": "code",
      "metadata": {
        "id": "N1QdJXBm8_fX",
        "outputId": "644bde06-1101-4872-87a3-8fa12e3a67fd",
        "colab": {
          "base_uri": "https://localhost:8080/",
          "height": 121
        }
      },
      "source": [
        "for i, quark in enumerate([\"down\",\"up\",\"strange\",\"charm\",\"bottom\",\"top\"]):\n",
        "    print(quark, \"PDGID: \", i+1)"
      ],
      "execution_count": null,
      "outputs": [
        {
          "output_type": "stream",
          "text": [
            "down PDGID:  1\n",
            "up PDGID:  2\n",
            "strange PDGID:  3\n",
            "charm PDGID:  4\n",
            "bottom PDGID:  5\n",
            "top PDGID:  6\n"
          ],
          "name": "stdout"
        }
      ]
    },
    {
      "cell_type": "markdown",
      "metadata": {
        "id": "28CfMy508_fZ"
      },
      "source": [
        "## Slicing"
      ]
    },
    {
      "cell_type": "code",
      "metadata": {
        "id": "yHQv-V708_fa",
        "outputId": "bd3e98d4-c23b-458c-f0c7-858a65d33307",
        "colab": {
          "base_uri": "https://localhost:8080/",
          "height": 139
        }
      },
      "source": [
        "for letter in \"Quantum\":\n",
        "    print(letter)"
      ],
      "execution_count": null,
      "outputs": [
        {
          "output_type": "stream",
          "text": [
            "Q\n",
            "u\n",
            "a\n",
            "n\n",
            "t\n",
            "u\n",
            "m\n"
          ],
          "name": "stdout"
        }
      ]
    },
    {
      "cell_type": "markdown",
      "metadata": {
        "id": "dr55aRzi8_fd"
      },
      "source": [
        "*Aceder a partes de uma lista*"
      ]
    },
    {
      "cell_type": "code",
      "metadata": {
        "id": "O0qZ3vP68_fe",
        "outputId": "dbf73562-88e7-4a03-d70b-999bc672eb2e",
        "colab": {
          "base_uri": "https://localhost:8080/",
          "height": 34
        }
      },
      "source": [
        "days_of_the_week[0:2]"
      ],
      "execution_count": null,
      "outputs": [
        {
          "output_type": "execute_result",
          "data": {
            "text/plain": [
              "['Monday', 'Tuesday']"
            ]
          },
          "metadata": {
            "tags": []
          },
          "execution_count": 52
        }
      ]
    },
    {
      "cell_type": "markdown",
      "metadata": {
        "id": "jcvwhl_Y8_fg"
      },
      "source": [
        "*do início*"
      ]
    },
    {
      "cell_type": "code",
      "metadata": {
        "id": "bcqh_-jl8_fh",
        "outputId": "4a875110-db24-4d8f-d6ae-f34bf65638a7",
        "colab": {
          "base_uri": "https://localhost:8080/",
          "height": 34
        }
      },
      "source": [
        "days_of_the_week[:2]"
      ],
      "execution_count": null,
      "outputs": [
        {
          "output_type": "execute_result",
          "data": {
            "text/plain": [
              "['Monday', 'Tuesday']"
            ]
          },
          "metadata": {
            "tags": []
          },
          "execution_count": 53
        }
      ]
    },
    {
      "cell_type": "markdown",
      "metadata": {
        "id": "BLKpgwKh8_fj"
      },
      "source": [
        "*até ao fim*"
      ]
    },
    {
      "cell_type": "code",
      "metadata": {
        "id": "OaoPT5Bg8_fk",
        "outputId": "611c2e69-6f6f-46dc-a561-36811a535cf6",
        "colab": {
          "base_uri": "https://localhost:8080/",
          "height": 34
        }
      },
      "source": [
        "days_of_the_week[2:]"
      ],
      "execution_count": null,
      "outputs": [
        {
          "output_type": "execute_result",
          "data": {
            "text/plain": [
              "['Wednesday', 'Thursday', 'Friday', 'Saturday', 'Sunday']"
            ]
          },
          "metadata": {
            "tags": []
          },
          "execution_count": 54
        }
      ]
    },
    {
      "cell_type": "markdown",
      "metadata": {
        "id": "ElMuNoiN8_fm"
      },
      "source": [
        "*contar para trás*"
      ]
    },
    {
      "cell_type": "code",
      "metadata": {
        "id": "OXNmUGIn8_fn",
        "outputId": "da6cfd01-4a3a-4749-8955-fd75fb2df69f",
        "colab": {
          "base_uri": "https://localhost:8080/",
          "height": 34
        }
      },
      "source": [
        "days_of_the_week[-2:]"
      ],
      "execution_count": null,
      "outputs": [
        {
          "output_type": "execute_result",
          "data": {
            "text/plain": [
              "['Saturday', 'Sunday']"
            ]
          },
          "metadata": {
            "tags": []
          },
          "execution_count": 55
        }
      ]
    },
    {
      "cell_type": "code",
      "metadata": {
        "scrolled": true,
        "id": "zC38ZwyM8_fq",
        "outputId": "b01ad52a-a436-4445-b7e7-890eaf1fae94",
        "colab": {
          "base_uri": "https://localhost:8080/",
          "height": 34
        }
      },
      "source": [
        "down_type_quarks = [\"down\",\"up\",\"strange\",\"charm\",\"bottom\",\"top\"][::2]\n",
        "print(down_type_quarks)"
      ],
      "execution_count": null,
      "outputs": [
        {
          "output_type": "stream",
          "text": [
            "['down', 'strange', 'bottom']\n"
          ],
          "name": "stdout"
        }
      ]
    },
    {
      "cell_type": "markdown",
      "metadata": {
        "id": "Z-94iT4q8_fr"
      },
      "source": [
        "*List comprehensions*"
      ]
    },
    {
      "cell_type": "code",
      "metadata": {
        "scrolled": true,
        "id": "h8z1H2Bs8_fs",
        "outputId": "54e6c6c5-21ab-4706-b5d9-65e0c0486713",
        "colab": {
          "base_uri": "https://localhost:8080/",
          "height": 34
        }
      },
      "source": [
        "even = [i for i in range(20) if i%2 == 0]\n",
        "print(even)"
      ],
      "execution_count": null,
      "outputs": [
        {
          "output_type": "stream",
          "text": [
            "[0, 2, 4, 6, 8, 10, 12, 14, 16, 18]\n"
          ],
          "name": "stdout"
        }
      ]
    },
    {
      "cell_type": "code",
      "metadata": {
        "id": "pZEpgm1M8_fv",
        "outputId": "70f10b8b-6af3-4b5e-d5db-c954a7685d2d",
        "colab": {
          "base_uri": "https://localhost:8080/",
          "height": 34
        }
      },
      "source": [
        "nights_of_the_week = [day.replace(\"day\",\"night\") for day in days_of_the_week]\n",
        "print(nights_of_the_week)"
      ],
      "execution_count": null,
      "outputs": [
        {
          "output_type": "stream",
          "text": [
            "['Monnight', 'Tuesnight', 'Wednesnight', 'Thursnight', 'Frinight', 'Saturnight', 'Sunnight']\n"
          ],
          "name": "stdout"
        }
      ]
    },
    {
      "cell_type": "markdown",
      "metadata": {
        "id": "NeI4_utk8_fy"
      },
      "source": [
        "## Dictionaries"
      ]
    },
    {
      "cell_type": "code",
      "metadata": {
        "id": "dJy02YZS8_fy"
      },
      "source": [
        "boson_masses = {\n",
        "    \"W\" : 80,\n",
        "    \"Z\" : 91,\n",
        "    \"Photon\" : 0,\n",
        "    \"Gluon\" : 0,\n",
        "    \"Higgs\" : 125,\n",
        "}"
      ],
      "execution_count": null,
      "outputs": []
    },
    {
      "cell_type": "code",
      "metadata": {
        "id": "ycbMgtbm8_f1",
        "outputId": "a91a5daa-eef7-46ea-c683-1dcdb2b22fdd",
        "colab": {
          "base_uri": "https://localhost:8080/",
          "height": 34
        }
      },
      "source": [
        "boson_masses[\"Higgs\"]"
      ],
      "execution_count": null,
      "outputs": [
        {
          "output_type": "execute_result",
          "data": {
            "text/plain": [
              "125"
            ]
          },
          "metadata": {
            "tags": []
          },
          "execution_count": 60
        }
      ]
    },
    {
      "cell_type": "code",
      "metadata": {
        "id": "HlKPx4268_f2",
        "outputId": "143da637-7ff0-4c29-8e1b-a6f0d353312c",
        "colab": {
          "base_uri": "https://localhost:8080/",
          "height": 34
        }
      },
      "source": [
        "boson_masses[\"Higgs\"] < boson_masses[\"W\"]"
      ],
      "execution_count": null,
      "outputs": [
        {
          "output_type": "execute_result",
          "data": {
            "text/plain": [
              "False"
            ]
          },
          "metadata": {
            "tags": []
          },
          "execution_count": 61
        }
      ]
    },
    {
      "cell_type": "code",
      "metadata": {
        "id": "BZnCVwFe8_f5",
        "outputId": "5ee19e7c-617d-45ae-d581-2062c361c0f2",
        "colab": {
          "base_uri": "https://localhost:8080/",
          "height": 104
        }
      },
      "source": [
        "for boson, mass in boson_masses.items():\n",
        "    print(\"{} has a mass of {} GeV\".format(boson,mass))"
      ],
      "execution_count": null,
      "outputs": [
        {
          "output_type": "stream",
          "text": [
            "W has a mass of 80 GeV\n",
            "Z has a mass of 91 GeV\n",
            "Photon has a mass of 0 GeV\n",
            "Gluon has a mass of 0 GeV\n",
            "Higgs has a mass of 125 GeV\n"
          ],
          "name": "stdout"
        }
      ]
    },
    {
      "cell_type": "code",
      "metadata": {
        "id": "oODrjUQL8_f7",
        "outputId": "eeae4910-29ef-4d36-974b-40ee376b6445",
        "colab": {
          "base_uri": "https://localhost:8080/",
          "height": 52
        }
      },
      "source": [
        "print(boson_masses.keys())\n",
        "print(boson_masses.values())"
      ],
      "execution_count": null,
      "outputs": [
        {
          "output_type": "stream",
          "text": [
            "dict_keys(['W', 'Z', 'Photon', 'Gluon', 'Higgs'])\n",
            "dict_values([80, 91, 0, 0, 125])\n"
          ],
          "name": "stdout"
        }
      ]
    },
    {
      "cell_type": "markdown",
      "metadata": {
        "id": "NVvFO9RD8_f9"
      },
      "source": [
        "## Booleans"
      ]
    },
    {
      "cell_type": "code",
      "metadata": {
        "id": "sNiT_jxZ8_f9",
        "outputId": "9d8ed091-3214-49ec-971f-0ad265489cd5",
        "colab": {
          "base_uri": "https://localhost:8080/",
          "height": 34
        }
      },
      "source": [
        "1 == 2"
      ],
      "execution_count": null,
      "outputs": [
        {
          "output_type": "execute_result",
          "data": {
            "text/plain": [
              "False"
            ]
          },
          "metadata": {
            "tags": []
          },
          "execution_count": 64
        }
      ]
    },
    {
      "cell_type": "code",
      "metadata": {
        "id": "PHsWdpOG8_f_",
        "outputId": "0ff14214-d87d-4ab1-ae30-8111b8c6103f",
        "colab": {
          "base_uri": "https://localhost:8080/",
          "height": 34
        }
      },
      "source": [
        "50 == 2*25"
      ],
      "execution_count": null,
      "outputs": [
        {
          "output_type": "execute_result",
          "data": {
            "text/plain": [
              "True"
            ]
          },
          "metadata": {
            "tags": []
          },
          "execution_count": 65
        }
      ]
    },
    {
      "cell_type": "code",
      "metadata": {
        "id": "eTPIVX__8_gC",
        "outputId": "7661f5ba-c296-4142-ed1e-e8c03445872b",
        "colab": {
          "base_uri": "https://localhost:8080/",
          "height": 34
        }
      },
      "source": [
        "3 < 3.14159"
      ],
      "execution_count": null,
      "outputs": [
        {
          "output_type": "execute_result",
          "data": {
            "text/plain": [
              "True"
            ]
          },
          "metadata": {
            "tags": []
          },
          "execution_count": 66
        }
      ]
    },
    {
      "cell_type": "code",
      "metadata": {
        "id": "GjFD50UP8_gF",
        "outputId": "032f509a-d5a6-41e0-ea27-e0f572ffc4cf",
        "colab": {
          "base_uri": "https://localhost:8080/",
          "height": 34
        }
      },
      "source": [
        "1 == 1.0"
      ],
      "execution_count": null,
      "outputs": [
        {
          "output_type": "execute_result",
          "data": {
            "text/plain": [
              "True"
            ]
          },
          "metadata": {
            "tags": []
          },
          "execution_count": 67
        }
      ]
    },
    {
      "cell_type": "code",
      "metadata": {
        "id": "xvIg9d-P8_gH",
        "outputId": "eabe953a-1bf2-4dd3-d72d-acf49ddc17f3",
        "colab": {
          "base_uri": "https://localhost:8080/",
          "height": 34
        }
      },
      "source": [
        "1 != 0"
      ],
      "execution_count": null,
      "outputs": [
        {
          "output_type": "execute_result",
          "data": {
            "text/plain": [
              "True"
            ]
          },
          "metadata": {
            "tags": []
          },
          "execution_count": 68
        }
      ]
    },
    {
      "cell_type": "code",
      "metadata": {
        "id": "f5wxzTb88_gJ",
        "outputId": "2f92bab5-bbd8-4d2d-95cb-6de3cc9f0d0e",
        "colab": {
          "base_uri": "https://localhost:8080/",
          "height": 34
        }
      },
      "source": [
        "1 <= 2"
      ],
      "execution_count": null,
      "outputs": [
        {
          "output_type": "execute_result",
          "data": {
            "text/plain": [
              "True"
            ]
          },
          "metadata": {
            "tags": []
          },
          "execution_count": 69
        }
      ]
    },
    {
      "cell_type": "code",
      "metadata": {
        "id": "PH0G6DiI8_gL",
        "outputId": "e5000014-e861-499b-bf41-5fce7f762518",
        "colab": {
          "base_uri": "https://localhost:8080/",
          "height": 34
        }
      },
      "source": [
        "1 >= 1"
      ],
      "execution_count": null,
      "outputs": [
        {
          "output_type": "execute_result",
          "data": {
            "text/plain": [
              "True"
            ]
          },
          "metadata": {
            "tags": []
          },
          "execution_count": 70
        }
      ]
    },
    {
      "cell_type": "code",
      "metadata": {
        "id": "KxAVbiEi8_gO",
        "outputId": "f92dc112-27c0-49c7-e14b-0c67ecf51e2b",
        "colab": {
          "base_uri": "https://localhost:8080/",
          "height": 34
        }
      },
      "source": [
        "1 is 1.0"
      ],
      "execution_count": null,
      "outputs": [
        {
          "output_type": "execute_result",
          "data": {
            "text/plain": [
              "False"
            ]
          },
          "metadata": {
            "tags": []
          },
          "execution_count": 71
        }
      ]
    },
    {
      "cell_type": "code",
      "metadata": {
        "id": "JagG0FUo8_gQ",
        "outputId": "95b3c670-8e8a-4678-c400-9bbcf95d428b",
        "colab": {
          "base_uri": "https://localhost:8080/",
          "height": 34
        }
      },
      "source": [
        "[1,2,3] == [1,2,4]"
      ],
      "execution_count": null,
      "outputs": [
        {
          "output_type": "execute_result",
          "data": {
            "text/plain": [
              "False"
            ]
          },
          "metadata": {
            "tags": []
          },
          "execution_count": 72
        }
      ]
    },
    {
      "cell_type": "code",
      "metadata": {
        "id": "l8RORDRJ8_gT",
        "outputId": "eafe5115-9afe-476c-c57f-bea419f58f8c",
        "colab": {
          "base_uri": "https://localhost:8080/",
          "height": 34
        }
      },
      "source": [
        "[1,2,3] < [1,2,4]"
      ],
      "execution_count": null,
      "outputs": [
        {
          "output_type": "execute_result",
          "data": {
            "text/plain": [
              "True"
            ]
          },
          "metadata": {
            "tags": []
          },
          "execution_count": 73
        }
      ]
    },
    {
      "cell_type": "code",
      "metadata": {
        "id": "qqBRQR1u8_gV",
        "outputId": "29343b2b-16d4-4393-acb0-6eb01d61f685",
        "colab": {
          "base_uri": "https://localhost:8080/",
          "height": 34
        }
      },
      "source": [
        "hours = 5\n",
        "0 < hours < 24"
      ],
      "execution_count": null,
      "outputs": [
        {
          "output_type": "execute_result",
          "data": {
            "text/plain": [
              "True"
            ]
          },
          "metadata": {
            "tags": []
          },
          "execution_count": 74
        }
      ]
    },
    {
      "cell_type": "code",
      "metadata": {
        "id": "K9G9LJ-F8_gX",
        "outputId": "c9e6d8e4-93ec-4900-a4a3-2dfce19e981e",
        "colab": {
          "base_uri": "https://localhost:8080/",
          "height": 34
        }
      },
      "source": [
        "bool(1)"
      ],
      "execution_count": null,
      "outputs": [
        {
          "output_type": "execute_result",
          "data": {
            "text/plain": [
              "True"
            ]
          },
          "metadata": {
            "tags": []
          },
          "execution_count": 75
        }
      ]
    },
    {
      "cell_type": "code",
      "metadata": {
        "id": "Bwzvpwyz8_gZ",
        "outputId": "82772c0e-23f1-48c8-e30a-e57c8f5f0541",
        "colab": {
          "base_uri": "https://localhost:8080/",
          "height": 34
        }
      },
      "source": [
        "bool(0)"
      ],
      "execution_count": null,
      "outputs": [
        {
          "output_type": "execute_result",
          "data": {
            "text/plain": [
              "False"
            ]
          },
          "metadata": {
            "tags": []
          },
          "execution_count": 76
        }
      ]
    },
    {
      "cell_type": "code",
      "metadata": {
        "id": "8WM4eJS08_gc",
        "outputId": "d6a6779f-52b0-44e6-a271-b17aa9e590a6",
        "colab": {
          "base_uri": "https://localhost:8080/",
          "height": 34
        }
      },
      "source": [
        "1 == True"
      ],
      "execution_count": null,
      "outputs": [
        {
          "output_type": "execute_result",
          "data": {
            "text/plain": [
              "True"
            ]
          },
          "metadata": {
            "tags": []
          },
          "execution_count": 77
        }
      ]
    },
    {
      "cell_type": "code",
      "metadata": {
        "id": "V3Vzbvg88_ge",
        "outputId": "aa354ad8-4814-424d-f9ff-ddf1d71173ee",
        "colab": {
          "base_uri": "https://localhost:8080/",
          "height": 34
        }
      },
      "source": [
        "0 == False"
      ],
      "execution_count": null,
      "outputs": [
        {
          "output_type": "execute_result",
          "data": {
            "text/plain": [
              "True"
            ]
          },
          "metadata": {
            "tags": []
          },
          "execution_count": 78
        }
      ]
    },
    {
      "cell_type": "markdown",
      "metadata": {
        "id": "BKltwVZu8_gj"
      },
      "source": [
        "## Functions\n",
        "**o seu uso é fundamental: boa prática de programação**"
      ]
    },
    {
      "cell_type": "code",
      "metadata": {
        "id": "ZrFLHYOf8_gj"
      },
      "source": [
        "def fibonacci(sequence_length):\n",
        "    sequence = [0,1]\n",
        "    if sequence_length < 1:\n",
        "        print(\"Fibonacci sequence undefined for this lenght\")\n",
        "        return\n",
        "    if sequence_length < 3:\n",
        "        return sequence[:sequence_length]\n",
        "    for i in range(2,sequence_length): \n",
        "        sequence.append(sequence[i-1]+sequence[i-2])\n",
        "    return sequence"
      ],
      "execution_count": null,
      "outputs": []
    },
    {
      "cell_type": "code",
      "metadata": {
        "id": "ZXd7Xgy38_gk",
        "outputId": "c5dcfb08-4e2f-4dda-de16-ecd7f18ad014",
        "colab": {
          "base_uri": "https://localhost:8080/",
          "height": 34
        }
      },
      "source": [
        "fibonacci(2)"
      ],
      "execution_count": null,
      "outputs": [
        {
          "output_type": "execute_result",
          "data": {
            "text/plain": [
              "[0, 1]"
            ]
          },
          "metadata": {
            "tags": []
          },
          "execution_count": 80
        }
      ]
    },
    {
      "cell_type": "code",
      "metadata": {
        "id": "DgykrM2L8_gm",
        "outputId": "90f366b1-b5be-4dd3-c990-cde9fe786d8d",
        "colab": {
          "base_uri": "https://localhost:8080/",
          "height": 34
        }
      },
      "source": [
        "fibonacci(12)"
      ],
      "execution_count": null,
      "outputs": [
        {
          "output_type": "execute_result",
          "data": {
            "text/plain": [
              "[0, 1, 1, 2, 3, 5, 8, 13, 21, 34, 55, 89]"
            ]
          },
          "metadata": {
            "tags": []
          },
          "execution_count": 81
        }
      ]
    },
    {
      "cell_type": "markdown",
      "metadata": {
        "id": "roKckIAZ8_go"
      },
      "source": [
        "## Recursion"
      ]
    },
    {
      "cell_type": "code",
      "metadata": {
        "id": "Fb1PdKfE8_gp"
      },
      "source": [
        "def fact(n):\n",
        "    if n <= 0:\n",
        "        return 1\n",
        "    return n*fact(n-1)"
      ],
      "execution_count": null,
      "outputs": []
    },
    {
      "cell_type": "code",
      "metadata": {
        "id": "N6arbI1D8_gr",
        "outputId": "400c5718-5013-48f4-855d-f441bbc079b0",
        "colab": {
          "base_uri": "https://localhost:8080/",
          "height": 34
        }
      },
      "source": [
        "fact(20)"
      ],
      "execution_count": null,
      "outputs": [
        {
          "output_type": "execute_result",
          "data": {
            "text/plain": [
              "2432902008176640000"
            ]
          },
          "metadata": {
            "tags": []
          },
          "execution_count": 83
        }
      ]
    },
    {
      "cell_type": "code",
      "metadata": {
        "id": "96MpoQVQ8_gt",
        "outputId": "d973f35c-262e-4fa0-9354-33c087ffde86",
        "colab": {
          "base_uri": "https://localhost:8080/",
          "height": 34
        }
      },
      "source": [
        "from math import factorial\n",
        "factorial(20)"
      ],
      "execution_count": null,
      "outputs": [
        {
          "output_type": "execute_result",
          "data": {
            "text/plain": [
              "2432902008176640000"
            ]
          },
          "metadata": {
            "tags": []
          },
          "execution_count": 84
        }
      ]
    },
    {
      "cell_type": "markdown",
      "metadata": {
        "id": "a3q-Y1Kd8_gv"
      },
      "source": [
        "## Plotting with Matplotlib"
      ]
    },
    {
      "cell_type": "code",
      "metadata": {
        "id": "7GubNOOb8_gv"
      },
      "source": [
        "fibs = fibonacci(10)"
      ],
      "execution_count": null,
      "outputs": []
    },
    {
      "cell_type": "code",
      "metadata": {
        "id": "46L7uXjJ8_g5"
      },
      "source": [
        "facts = [factorial(fib) for fib in fibs]"
      ],
      "execution_count": null,
      "outputs": []
    },
    {
      "cell_type": "code",
      "metadata": {
        "id": "CNOirFm_8_g7",
        "outputId": "8d396d91-58ea-408b-c468-46cfb337d24c",
        "colab": {
          "base_uri": "https://localhost:8080/",
          "height": 307
        }
      },
      "source": [
        "import matplotlib.pyplot as plt\n",
        "plt.plot(facts,label=\"factorial\")\n",
        "plt.plot(fibs,label=\"Fibonacci\")\n",
        "plt.xlabel(\"n\")\n",
        "plt.legend()"
      ],
      "execution_count": null,
      "outputs": [
        {
          "output_type": "execute_result",
          "data": {
            "text/plain": [
              "<matplotlib.legend.Legend at 0x7f3e085d4a58>"
            ]
          },
          "metadata": {
            "tags": []
          },
          "execution_count": 87
        },
        {
          "output_type": "display_data",
          "data": {
            "image/png": "[encoded data removed]",
            "text/plain": [
              "<Figure size 432x288 with 1 Axes>"
            ]
          },
          "metadata": {
            "tags": [],
            "needs_background": "light"
          }
        }
      ]
    },
    {
      "cell_type": "code",
      "metadata": {
        "id": "IqRMBWMY8_g-",
        "outputId": "4c4df7f3-2555-48e3-f69a-f67adf04cdc5",
        "colab": {
          "base_uri": "https://localhost:8080/",
          "height": 296
        }
      },
      "source": [
        "plt.plot(facts,label=\"factorial\")\n",
        "plt.plot(fibs,label=\"Fibonacci\")\n",
        "plt.yscale('log')\n",
        "plt.xlabel(\"n\")\n",
        "plt.legend()"
      ],
      "execution_count": null,
      "outputs": [
        {
          "output_type": "execute_result",
          "data": {
            "text/plain": [
              "<matplotlib.legend.Legend at 0x7f3e080beef0>"
            ]
          },
          "metadata": {
            "tags": []
          },
          "execution_count": 88
        },
        {
          "output_type": "display_data",
          "data": {
            "image/png": "[encoded data removed]",
            "text/plain": [
              "<Figure size 432x288 with 1 Axes>"
            ]
          },
          "metadata": {
            "tags": [],
            "needs_background": "light"
          }
        }
      ]
    },
    {
      "cell_type": "markdown",
      "metadata": {
        "id": "vP6SYeTo8_hA"
      },
      "source": [
        "# II. Numpy and Scipy"
      ]
    },
    {
      "cell_type": "code",
      "metadata": {
        "id": "Y4CHYkb28_hB"
      },
      "source": [
        "import numpy as np"
      ],
      "execution_count": null,
      "outputs": []
    },
    {
      "cell_type": "code",
      "metadata": {
        "id": "urxXnPAx8_hE",
        "outputId": "0a34ad22-29a2-4a9b-db43-a5997b9c0ab8",
        "colab": {
          "base_uri": "https://localhost:8080/",
          "height": 34
        }
      },
      "source": [
        "np.array([1,2,3,4,5,6])"
      ],
      "execution_count": null,
      "outputs": [
        {
          "output_type": "execute_result",
          "data": {
            "text/plain": [
              "array([1, 2, 3, 4, 5, 6])"
            ]
          },
          "metadata": {
            "tags": []
          },
          "execution_count": 90
        }
      ]
    },
    {
      "cell_type": "markdown",
      "metadata": {
        "id": "-G7Km-f_8_hI"
      },
      "source": [
        "'d' (double precision floating point number), 'D' (double precision complex number), and 'i' (int32)"
      ]
    },
    {
      "cell_type": "code",
      "metadata": {
        "id": "vWaueb0Y8_hI",
        "outputId": "b30c7099-66ff-4f90-c5f1-21cb3c87507f",
        "colab": {
          "base_uri": "https://localhost:8080/",
          "height": 34
        }
      },
      "source": [
        "np.array([1,2,3,4,5,6],'d')"
      ],
      "execution_count": null,
      "outputs": [
        {
          "output_type": "execute_result",
          "data": {
            "text/plain": [
              "array([1., 2., 3., 4., 5., 6.])"
            ]
          },
          "metadata": {
            "tags": []
          },
          "execution_count": 91
        }
      ]
    },
    {
      "cell_type": "code",
      "metadata": {
        "id": "iBedghmx8_hK",
        "outputId": "1090b222-766a-4045-bf92-d31fa4aa9b68",
        "colab": {
          "base_uri": "https://localhost:8080/",
          "height": 34
        }
      },
      "source": [
        "np.array([1,2,3,4,5,6],'D')"
      ],
      "execution_count": null,
      "outputs": [
        {
          "output_type": "execute_result",
          "data": {
            "text/plain": [
              "array([1.+0.j, 2.+0.j, 3.+0.j, 4.+0.j, 5.+0.j, 6.+0.j])"
            ]
          },
          "metadata": {
            "tags": []
          },
          "execution_count": 92
        }
      ]
    },
    {
      "cell_type": "code",
      "metadata": {
        "id": "qejmOa7e8_hM",
        "outputId": "aed27b89-d92b-43c4-954a-44c805c05732",
        "colab": {
          "base_uri": "https://localhost:8080/",
          "height": 34
        }
      },
      "source": [
        "np.array([1,2,3,4,5,6],'i')"
      ],
      "execution_count": null,
      "outputs": [
        {
          "output_type": "execute_result",
          "data": {
            "text/plain": [
              "array([1, 2, 3, 4, 5, 6], dtype=int32)"
            ]
          },
          "metadata": {
            "tags": []
          },
          "execution_count": 93
        }
      ]
    },
    {
      "cell_type": "code",
      "metadata": {
        "id": "qfnKEEJd8_hO",
        "outputId": "ad114378-f2f7-49b1-abfa-e1a4b7c67643",
        "colab": {
          "base_uri": "https://localhost:8080/",
          "height": 52
        }
      },
      "source": [
        "np.array([[0,1],[1,0]],'d')"
      ],
      "execution_count": null,
      "outputs": [
        {
          "output_type": "execute_result",
          "data": {
            "text/plain": [
              "array([[0., 1.],\n",
              "       [1., 0.]])"
            ]
          },
          "metadata": {
            "tags": []
          },
          "execution_count": 94
        }
      ]
    },
    {
      "cell_type": "code",
      "metadata": {
        "id": "D_aQfqwF8_hP",
        "outputId": "5978da65-5e61-449f-8af7-530e74a1300d",
        "colab": {
          "base_uri": "https://localhost:8080/",
          "height": 69
        }
      },
      "source": [
        "np.zeros((3,3),'d')"
      ],
      "execution_count": null,
      "outputs": [
        {
          "output_type": "execute_result",
          "data": {
            "text/plain": [
              "array([[0., 0., 0.],\n",
              "       [0., 0., 0.],\n",
              "       [0., 0., 0.]])"
            ]
          },
          "metadata": {
            "tags": []
          },
          "execution_count": 95
        }
      ]
    },
    {
      "cell_type": "code",
      "metadata": {
        "id": "ZOfK5wlG8_hR",
        "outputId": "13aa511c-bdc7-4534-f598-2315eae7993b",
        "colab": {
          "base_uri": "https://localhost:8080/",
          "height": 34
        }
      },
      "source": [
        "np.zeros((1,3),'d')"
      ],
      "execution_count": null,
      "outputs": [
        {
          "output_type": "execute_result",
          "data": {
            "text/plain": [
              "array([[0., 0., 0.]])"
            ]
          },
          "metadata": {
            "tags": []
          },
          "execution_count": 96
        }
      ]
    },
    {
      "cell_type": "code",
      "metadata": {
        "id": "bYzG4YCa8_hT",
        "outputId": "d658c194-9c99-4139-a2b7-dc946306e601",
        "colab": {
          "base_uri": "https://localhost:8080/",
          "height": 69
        }
      },
      "source": [
        "np.zeros((3,1),'d')"
      ],
      "execution_count": null,
      "outputs": [
        {
          "output_type": "execute_result",
          "data": {
            "text/plain": [
              "array([[0.],\n",
              "       [0.],\n",
              "       [0.]])"
            ]
          },
          "metadata": {
            "tags": []
          },
          "execution_count": 97
        }
      ]
    },
    {
      "cell_type": "code",
      "metadata": {
        "id": "_kPAb9I88_hU",
        "outputId": "cc1049e7-f127-4a13-976a-a150c33ef126",
        "colab": {
          "base_uri": "https://localhost:8080/",
          "height": 86
        }
      },
      "source": [
        "np.identity(4,'d')"
      ],
      "execution_count": null,
      "outputs": [
        {
          "output_type": "execute_result",
          "data": {
            "text/plain": [
              "array([[1., 0., 0., 0.],\n",
              "       [0., 1., 0., 0.],\n",
              "       [0., 0., 1., 0.],\n",
              "       [0., 0., 0., 1.]])"
            ]
          },
          "metadata": {
            "tags": []
          },
          "execution_count": 98
        }
      ]
    },
    {
      "cell_type": "code",
      "metadata": {
        "id": "Oln9Ff5C8_hW",
        "outputId": "8789ca0c-ccc0-4e3b-dffc-b526e5301ac6",
        "colab": {
          "base_uri": "https://localhost:8080/",
          "height": 191
        }
      },
      "source": [
        "np.linspace(0,1)"
      ],
      "execution_count": null,
      "outputs": [
        {
          "output_type": "execute_result",
          "data": {
            "text/plain": [
              "array([0.        , 0.02040816, 0.04081633, 0.06122449, 0.08163265,\n",
              "       0.10204082, 0.12244898, 0.14285714, 0.16326531, 0.18367347,\n",
              "       0.20408163, 0.2244898 , 0.24489796, 0.26530612, 0.28571429,\n",
              "       0.30612245, 0.32653061, 0.34693878, 0.36734694, 0.3877551 ,\n",
              "       0.40816327, 0.42857143, 0.44897959, 0.46938776, 0.48979592,\n",
              "       0.51020408, 0.53061224, 0.55102041, 0.57142857, 0.59183673,\n",
              "       0.6122449 , 0.63265306, 0.65306122, 0.67346939, 0.69387755,\n",
              "       0.71428571, 0.73469388, 0.75510204, 0.7755102 , 0.79591837,\n",
              "       0.81632653, 0.83673469, 0.85714286, 0.87755102, 0.89795918,\n",
              "       0.91836735, 0.93877551, 0.95918367, 0.97959184, 1.        ])"
            ]
          },
          "metadata": {
            "tags": []
          },
          "execution_count": 99
        }
      ]
    },
    {
      "cell_type": "code",
      "metadata": {
        "id": "izxWNKfL8_hY",
        "outputId": "0fdd06c8-336c-4fb0-9d20-e4758bda1aab",
        "colab": {
          "base_uri": "https://localhost:8080/",
          "height": 34
        }
      },
      "source": [
        "np.linspace(0,1,11)"
      ],
      "execution_count": null,
      "outputs": [
        {
          "output_type": "execute_result",
          "data": {
            "text/plain": [
              "array([0. , 0.1, 0.2, 0.3, 0.4, 0.5, 0.6, 0.7, 0.8, 0.9, 1. ])"
            ]
          },
          "metadata": {
            "tags": []
          },
          "execution_count": 100
        }
      ]
    },
    {
      "cell_type": "code",
      "metadata": {
        "id": "wc3-6VX18_ha",
        "outputId": "38d3e29e-bbd6-4434-ccb1-3c012d0314ef",
        "colab": {
          "base_uri": "https://localhost:8080/",
          "height": 243
        }
      },
      "source": [
        "x = np.linspace(0,2*math.pi)\n",
        "np.sin(x)"
      ],
      "execution_count": null,
      "outputs": [
        {
          "output_type": "execute_result",
          "data": {
            "text/plain": [
              "array([ 0.00000000e+00,  1.27877162e-01,  2.53654584e-01,  3.75267005e-01,\n",
              "        4.90717552e-01,  5.98110530e-01,  6.95682551e-01,  7.81831482e-01,\n",
              "        8.55142763e-01,  9.14412623e-01,  9.58667853e-01,  9.87181783e-01,\n",
              "        9.99486216e-01,  9.95379113e-01,  9.74927912e-01,  9.38468422e-01,\n",
              "        8.86599306e-01,  8.20172255e-01,  7.40277997e-01,  6.48228395e-01,\n",
              "        5.45534901e-01,  4.33883739e-01,  3.15108218e-01,  1.91158629e-01,\n",
              "        6.40702200e-02, -6.40702200e-02, -1.91158629e-01, -3.15108218e-01,\n",
              "       -4.33883739e-01, -5.45534901e-01, -6.48228395e-01, -7.40277997e-01,\n",
              "       -8.20172255e-01, -8.86599306e-01, -9.38468422e-01, -9.74927912e-01,\n",
              "       -9.95379113e-01, -9.99486216e-01, -9.87181783e-01, -9.58667853e-01,\n",
              "       -9.14412623e-01, -8.55142763e-01, -7.81831482e-01, -6.95682551e-01,\n",
              "       -5.98110530e-01, -4.90717552e-01, -3.75267005e-01, -2.53654584e-01,\n",
              "       -1.27877162e-01, -2.44929360e-16])"
            ]
          },
          "metadata": {
            "tags": []
          },
          "execution_count": 101
        }
      ]
    },
    {
      "cell_type": "code",
      "metadata": {
        "id": "pxxM66Qj8_hc",
        "outputId": "bcc35c8f-f971-4ccc-ba7e-a4c034d6c6b3",
        "colab": {
          "base_uri": "https://localhost:8080/",
          "height": 282
        }
      },
      "source": [
        "plt.plot(x,np.sin(x))"
      ],
      "execution_count": null,
      "outputs": [
        {
          "output_type": "execute_result",
          "data": {
            "text/plain": [
              "[<matplotlib.lines.Line2D at 0x7f3e08058710>]"
            ]
          },
          "metadata": {
            "tags": []
          },
          "execution_count": 102
        },
        {
          "output_type": "display_data",
          "data": {
            "image/png": "[encoded data removed]",
            "text/plain": [
              "<Figure size 432x288 with 1 Axes>"
            ]
          },
          "metadata": {
            "tags": [],
            "needs_background": "light"
          }
        }
      ]
    },
    {
      "cell_type": "markdown",
      "metadata": {
        "id": "JNEf0X6k8_hd"
      },
      "source": [
        "## Matrix operations"
      ]
    },
    {
      "cell_type": "markdown",
      "metadata": {
        "id": "pfT5aGoF8_hd"
      },
      "source": [
        "*Multiplicação por um escalar*\n",
        "\n"
      ]
    },
    {
      "cell_type": "code",
      "metadata": {
        "id": "fx654o868_he",
        "outputId": "82b47d15-9d56-4824-b3bb-d192e3cc494a",
        "colab": {
          "base_uri": "https://localhost:8080/",
          "height": 69
        }
      },
      "source": [
        "0.5*np.identity(3,'d')"
      ],
      "execution_count": null,
      "outputs": [
        {
          "output_type": "execute_result",
          "data": {
            "text/plain": [
              "array([[0.5, 0. , 0. ],\n",
              "       [0. , 0.5, 0. ],\n",
              "       [0. , 0. , 0.5]])"
            ]
          },
          "metadata": {
            "tags": []
          },
          "execution_count": 103
        }
      ]
    },
    {
      "cell_type": "markdown",
      "metadata": {
        "id": "VV0AQQf-8_hh"
      },
      "source": [
        "*Soma de matrizes*"
      ]
    },
    {
      "cell_type": "code",
      "metadata": {
        "id": "Z4BLoyv08_hh",
        "outputId": "bc374027-2766-425d-c153-d6e0bfecfe3e",
        "colab": {
          "base_uri": "https://localhost:8080/",
          "height": 52
        }
      },
      "source": [
        "np.identity(2,'d') + np.array([[1,1],[1,2]])"
      ],
      "execution_count": null,
      "outputs": [
        {
          "output_type": "execute_result",
          "data": {
            "text/plain": [
              "array([[2., 1.],\n",
              "       [1., 3.]])"
            ]
          },
          "metadata": {
            "tags": []
          },
          "execution_count": 104
        }
      ]
    },
    {
      "cell_type": "markdown",
      "metadata": {
        "id": "DzQWdehH8_hi"
      },
      "source": [
        "*Multiplicação elemento a elemento*"
      ]
    },
    {
      "cell_type": "code",
      "metadata": {
        "id": "P_FUsevq8_hj",
        "outputId": "c00a7e8e-ddb9-47bc-c908-e65acb23ade7",
        "colab": {
          "base_uri": "https://localhost:8080/",
          "height": 52
        }
      },
      "source": [
        "np.identity(2)*np.ones((2,2))"
      ],
      "execution_count": null,
      "outputs": [
        {
          "output_type": "execute_result",
          "data": {
            "text/plain": [
              "array([[1., 0.],\n",
              "       [0., 1.]])"
            ]
          },
          "metadata": {
            "tags": []
          },
          "execution_count": 105
        }
      ]
    },
    {
      "cell_type": "markdown",
      "metadata": {
        "id": "1Qyf6Xkn8_hk"
      },
      "source": [
        "*Multiplicação matricial*"
      ]
    },
    {
      "cell_type": "code",
      "metadata": {
        "id": "44PtZSeJ8_hl",
        "outputId": "8957c7b9-3841-4fe3-f197-d9e813b04c18",
        "colab": {
          "base_uri": "https://localhost:8080/",
          "height": 52
        }
      },
      "source": [
        "np.dot(np.identity(2),np.ones((2,2)))"
      ],
      "execution_count": null,
      "outputs": [
        {
          "output_type": "execute_result",
          "data": {
            "text/plain": [
              "array([[1., 1.],\n",
              "       [1., 1.]])"
            ]
          },
          "metadata": {
            "tags": []
          },
          "execution_count": 106
        }
      ]
    },
    {
      "cell_type": "markdown",
      "metadata": {
        "id": "O3fbfmol8_hm"
      },
      "source": [
        "**dot** can also do dot products (duh!):"
      ]
    },
    {
      "cell_type": "markdown",
      "metadata": {
        "id": "P457CUC-8_hm"
      },
      "source": [
        "Também há **determinant**, **inverse** e **transpose**.\n",
        "\n",
        "Para a transposição pode-se também usar \".T\" no final de um objecto matriz."
      ]
    },
    {
      "cell_type": "code",
      "metadata": {
        "id": "RMa8FxPb8_hm",
        "outputId": "ef17296a-8c71-43c0-8116-b102ba927c5b",
        "colab": {
          "base_uri": "https://localhost:8080/",
          "height": 139
        }
      },
      "source": [
        "m = np.array([[1,2],[3,4]])\n",
        "print(m.T)\n",
        "print(np.linalg.det(m))\n",
        "print(np.linalg.inv(m))\n",
        "print(np.dot(np.linalg.inv(m),m))"
      ],
      "execution_count": null,
      "outputs": [
        {
          "output_type": "stream",
          "text": [
            "[[1 3]\n",
            " [2 4]]\n",
            "-2.0000000000000004\n",
            "[[-2.   1. ]\n",
            " [ 1.5 -0.5]]\n",
            "[[1.00000000e+00 0.00000000e+00]\n",
            " [1.11022302e-16 1.00000000e+00]]\n"
          ],
          "name": "stdout"
        }
      ]
    }
  ]
}